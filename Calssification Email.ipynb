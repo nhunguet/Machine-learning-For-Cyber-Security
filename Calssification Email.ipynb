{
 "cells": [
  {
   "cell_type": "markdown",
   "metadata": {},
   "source": [
    "                                         \n",
    "                                         Name student: NGUYEN THI HONG NHUNG\n",
    "                                         Student ID: 81201080\n",
    "                                         Department: Electronics Engineering \n",
    "                                         Email: nhungnguyen.uet@gmail.com \n",
    "                                         Asignmeent 1\n",
    "                                         Subject: Machine Learning For Cyber Security \n",
    "                                         Professor: Suwon Hong "
   ]
  },
  {
   "cell_type": "code",
   "execution_count": 3,
   "metadata": {},
   "outputs": [],
   "source": [
    "import glob\n",
    "import numpy as np\n",
    "from nltk.corpus import names\n",
    "from nltk.stem import WordNetLemmatizer\n",
    "from sklearn.feature_extraction.text import CountVectorizer\n",
    "from sklearn.model_selection import train_test_split\n",
    "from sklearn.naive_bayes import MultinomialNB"
   ]
  },
  {
   "cell_type": "code",
   "execution_count": 4,
   "metadata": {},
   "outputs": [
    {
     "data": {
      "text/plain": [
       "(5172, 5172)"
      ]
     },
     "execution_count": 4,
     "metadata": {},
     "output_type": "execute_result"
    }
   ],
   "source": [
    "# Step 1. Load the dataset into variables\n",
    "#----------------------------------------------------------------------\n",
    "\n",
    "emails = [] # Mail texts\n",
    "labels = [] # Labels(0 for ham, 1 for spam)\n",
    "\n",
    "# Load ham mails\n",
    "for filename in sorted(glob.glob('enron1/enron1/ham/*.txt')):\n",
    "    with open(filename, 'r', encoding='ISO-8859-1') as infile:\n",
    "        emails.append(infile.read())\n",
    "        labels.append(0)\n",
    "for filename in sorted(glob.glob('enron1/enron1/spam/*.txt')):\n",
    "    with open(filename, 'r', encoding='ISO-8859-1') as infile:\n",
    "        emails.append(infile.read())\n",
    "        labels.append(1)\n",
    "\n",
    "len(emails), len(labels) # Print out how much data we've loaded is"
   ]
  },
  {
   "cell_type": "code",
   "execution_count": 5,
   "metadata": {},
   "outputs": [],
   "source": [
    "# Step 2. Clean the texts\n",
    "#----------------------------------------------------------------------\n",
    "\n",
    "def letters_only(astr):\n",
    "    return astr.isalpha()\n",
    "\n",
    "all_names = set(names.words())\n",
    "lemmatizer = WordNetLemmatizer()\n",
    "\n",
    "def clean_text(docs):\n",
    "    cleaned_docs = []\n",
    "    for doc in docs:\n",
    "        cleaned_docs.append(\n",
    "            ' '.join([lemmatizer.lemmatize(word.lower())\n",
    "                     for word in doc.split()\n",
    "                         if letters_only(word)\n",
    "                              and word not in all_names]))\n",
    "    return cleaned_docs\n",
    "            \n",
    "cleaned_emails = clean_text(emails)"
   ]
  },
  {
   "cell_type": "code",
   "execution_count": 6,
   "metadata": {},
   "outputs": [
    {
     "data": {
      "text/plain": [
       "'Subject: christmas tree farm pictures\\n'"
      ]
     },
     "execution_count": 6,
     "metadata": {},
     "output_type": "execute_result"
    }
   ],
   "source": [
    "# First email before cleaning\n",
    "emails[0]"
   ]
  },
  {
   "cell_type": "code",
   "execution_count": 7,
   "metadata": {},
   "outputs": [
    {
     "data": {
      "text/plain": [
       "'christmas tree farm picture'"
      ]
     },
     "execution_count": 7,
     "metadata": {},
     "output_type": "execute_result"
    }
   ],
   "source": [
    "# First email after cleaning\n",
    "cleaned_emails[0]"
   ]
  },
  {
   "cell_type": "code",
   "execution_count": 8,
   "metadata": {},
   "outputs": [],
   "source": [
    "# cleaned_emails=np.array(cleaned_emails)\n",
    "# labels=np.array(labels)"
   ]
  },
  {
   "cell_type": "code",
   "execution_count": 9,
   "metadata": {},
   "outputs": [],
   "source": [
    "# Step 3. Split the dataset into train dataset and test dataset\n",
    "#----------------------------------------------------------------------\n",
    "X_train, X_test, Y_train, Y_test = train_test_split(cleaned_emails, labels, test_size=0.33, random_state=42)"
   ]
  },
  {
   "cell_type": "code",
   "execution_count": 10,
   "metadata": {},
   "outputs": [],
   "source": [
    "# Step 4. Remove unused words and convert the dataset into a Document-Term Matrix\n",
    "#----------------------------------------------------------------------\n",
    "from sklearn.feature_extraction.text import CountVectorizer\n",
    "cv = CountVectorizer(stop_words='english', max_features=500) # the input text is in English, consider most frequent 500 words only\n",
    "term_docs_train = cv.fit_transform(X_train)\n",
    "#term_train = cv.fit_transform(Y_train)\n",
    "term_docs_test = cv.transform(X_test)"
   ]
  },
  {
   "cell_type": "code",
   "execution_count": null,
   "metadata": {},
   "outputs": [],
   "source": []
  },
  {
   "cell_type": "code",
   "execution_count": 11,
   "metadata": {},
   "outputs": [
    {
     "name": "stdout",
     "output_type": "stream",
     "text": [
      "Accuaracy 91.97 %\n"
     ]
    }
   ],
   "source": [
    "import numpy as np\n",
    "# Step 5 (TODO). Apply the machine learning with a MultinomialNB object\n",
    "#----------------------------------------------------------------------\n",
    "# To achieve the goal:\n",
    "# 1. Understand the entire codes\n",
    "# 2. Search for MultinomialNB class and learn about it\n",
    "# 3. Write correct codes below this comment\n",
    "# 4. The code should train a Naive Bayes model and print out the model accuracy with the test dataset\n",
    "# The expected model accuracy is 0.9197422378441711\n",
    "#\n",
    "# Hint1: Create a MultinomialNB object with the parameters: alpha=1.0 and fit_prior=True\n",
    "from sklearn.naive_bayes import MultinomialNB\n",
    "clf = MultinomialNB(alpha=1.0,fit_prior=True)\n",
    "from sklearn.metrics import accuracy_score\n",
    "# Hint2: Use fit() and score() method to get a result\n",
    "#----------------------------------------------------------------------\n",
    "# TODO: Write codes here\n",
    "clf.fit(term_docs_train,Y_train)\n",
    "y_pred = clf.predict(term_docs_test)\n",
    "print(\"Accuaracy %.2f %%\" % (100*accuracy_score(Y_test,y_pred)))"
   ]
  },
  {
   "cell_type": "code",
   "execution_count": 12,
   "metadata": {},
   "outputs": [],
   "source": [
    "#--------------------------------------------------------------\n",
    "# TODO: Draw confusion matrix \n",
    "import matplotlib.pyplot as plt\n",
    "import pandas as pd\n",
    "from imblearn.metrics import classification_report_imbalanced\n",
    "import seaborn as sns\n",
    "from sklearn.metrics import f1_score,accuracy_score,confusion_matrix\n",
    "import itertools\n",
    "\n",
    "import matplotlib as mpl\n",
    "import matplotlib.pyplot as plt\n",
    "import numpy as np\n",
    "from matplotlib import cm\n",
    "    \n",
    "def plot_confusion_matrix(cm, classes=None,\n",
    "                          normalize=False,\n",
    "                          title='Confusion matrix',\n",
    "                          cmap=plt.cm.Blues):\n",
    "    \n",
    "    \"\"\"\n",
    "    This function prints and plots the confusion matrix.\n",
    "    Normalization can be applied by setting `normalize=True`.\n",
    "    \"\"\"\n",
    "    mpl.rcParams.update(mpl.rcParamsDefault)\n",
    "    if normalize:\n",
    "        cm = cm.astype('float') / cm.sum(axis=1)[:, np.newaxis]\n",
    "        print(\"Normalized confusion matrix\")\n",
    "    else:\n",
    "        print('Confusion matrix, without normalization')\n",
    " \n",
    "    print(cm)\n",
    "    plt.figure(figsize=(5, 5)) \n",
    "    plt.imshow(cm, interpolation='nearest', cmap=cmap)\n",
    "    plt.title(title)\n",
    "    plt.colorbar(shrink=0.74)\n",
    "    tick_marks = np.arange(len(list(range(cm.shape[0]))))\n",
    "#     plt.xticks(tick_marks, classes, rotation=45)\n",
    "    plt.xticks(tick_marks, classes)\n",
    "    plt.yticks(tick_marks, classes,rotation=90)\n",
    " \n",
    "    fmt = '.2f' if normalize else 'd'\n",
    "    thresh = cm.max() / 2.\n",
    "    for i, j in itertools.product(range(cm.shape[0]), range(cm.shape[1])):\n",
    "        plt.text(j, i, format(cm[i, j], fmt),\n",
    "                 horizontalalignment=\"center\",\n",
    "                 color=\"white\" if cm[i, j] > thresh else \"black\")\n",
    "    plt.ylabel('True label')\n",
    "    plt.xlabel('Predicted label')\n",
    "    plt.tight_layout()\n",
    "    return plt\n",
    "\n"
   ]
  },
  {
   "cell_type": "code",
   "execution_count": 14,
   "metadata": {},
   "outputs": [
    {
     "name": "stdout",
     "output_type": "stream",
     "text": [
      "Normalized confusion matrix\n",
      "[[0.9275834  0.0724166 ]\n",
      " [0.10041841 0.89958159]]\n"
     ]
    },
    {
     "data": {
      "image/png": "[encoded data removed]",
      "text/plain": [
       "<Figure size 500x500 with 2 Axes>"
      ]
     },
     "metadata": {},
     "output_type": "display_data"
    },
    {
     "data": {
      "image/png": "[encoded data removed]",
      "text/plain": [
       "<Figure size 500x500 with 2 Axes>"
      ]
     },
     "metadata": {},
     "output_type": "display_data"
    }
   ],
   "source": [
    "pred = clf.predict(term_docs_test)\n",
    "# utils.confusion_plot(pred,data.y_test)\n",
    "plot_confusion_matrix(confusion_matrix(Y_test,pred),  normalize=True,title=None)\n",
    "plt.savefig(\"confusion matrix.pdf\")\n",
    "plt.show()"
   ]
  },
  {
   "cell_type": "code",
   "execution_count": null,
   "metadata": {},
   "outputs": [],
   "source": []
  }
 ],
 "metadata": {
  "kernelspec": {
   "display_name": "Python 3",
   "language": "python",
   "name": "python3"
  },
  "language_info": {
   "codemirror_mode": {
    "name": "ipython",
    "version": 3
   },
   "file_extension": ".py",
   "mimetype": "text/x-python",
   "name": "python",
   "nbconvert_exporter": "python",
   "pygments_lexer": "ipython3",
   "version": "3.8.3"
  }
 },
 "nbformat": 4,
 "nbformat_minor": 5
}
